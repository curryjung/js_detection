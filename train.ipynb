{
 "cells": [
  {
   "cell_type": "code",
   "execution_count": 1,
   "id": "76f296d6",
   "metadata": {},
   "outputs": [],
   "source": [
    "import torch\n",
    "from model import FaceDetector\n",
    "from dataset import JSdataset\n",
    "import torchvision.transforms as transforms\n",
    "import torch.optim as optim\n",
    "import torch.nn as nn\n",
    "\n",
    "import os\n",
    "import tqdm\n",
    "\n",
    "import time\n",
    "from torch.utils.data import DataLoader\n",
    "from torch.utils.tensorboard import SummaryWriter\n",
    "\n"
   ]
  },
  {
   "cell_type": "code",
   "execution_count": 2,
   "id": "4bd89bb6",
   "metadata": {},
   "outputs": [],
   "source": [
    "torch.manual_seed(0)\n",
    "if torch.cuda.is_available():\n",
    "    torch.cuda.manual_seed_all(0)\n",
    "\n",
    "device = torch.device(\"cuda\" if torch.cuda.is_available() else \"cpu\")\n",
    "\n",
    "\n",
    "batch_size = 200\n",
    "epoch = 0\n",
    "learning_rate = 1e-3\n",
    "print_every = 10\n",
    "evaluate_every = 10\n",
    "out_dir = \"./out\"\n",
    "total_epoch=5\n",
    "\n",
    "\n",
    "logger = SummaryWriter(os.path.join(out_dir, 'log'))"
   ]
  },
  {
   "cell_type": "code",
   "execution_count": 3,
   "id": "d1700c74",
   "metadata": {},
   "outputs": [],
   "source": [
    "if not os.path.exists(out_dir):\n",
    "    os.makedirs(out_dir)"
   ]
  },
  {
   "cell_type": "code",
   "execution_count": 68,
   "id": "c1669bfd",
   "metadata": {},
   "outputs": [],
   "source": [
    "def train(model, optimizer, criterion, train_loader, test_loader, total_epoch):\n",
    "    \n",
    "    test_images, test_labels = next(iter(test_loader))\n",
    "    test_images = test_images.to(device)\n",
    "    test_labels = test_labels.type(torch.FloatTensor)\n",
    "\n",
    "    model.train()\n",
    "\n",
    "    it = 0\n",
    "\n",
    "    t0b = time.time()\n",
    "    for epoch in range(total_epoch):\n",
    "        for images, labels in train_loader:\n",
    "            model.train()\n",
    "            images = images.to(device)\n",
    "            labels = labels.type(torch.FloatTensor)\n",
    "            labels = labels.to(device)\n",
    "\n",
    "            loss = 0\n",
    "\n",
    "            #initialize gradient\n",
    "            optimizer.zero_grad()\n",
    "            #forward propagation\n",
    "            output = model(images)\n",
    "            #calculate loss\n",
    "            loss = criterion(output.squeeze(1),labels)\n",
    "            #backward proopagation\n",
    "            loss.backward()\n",
    "            #update parameters\n",
    "            optimizer.step()\n",
    "\n",
    "\n",
    "            \n",
    "            with torch.no_grad():\n",
    "                model.eval()\n",
    "                prediction = get_pred(model, test_images)\n",
    "                accuracy = get_accuracy(prediction.squeeze(),test_labels)\n",
    "                print(accuracy)\n",
    "                \n",
    "            loss_dicts = {\"Train Loss\": loss, \"Test accuracy\": accuracy}\n",
    "            logger.add_scalars(\"train_loss\",loss_dicts,it)                 \n",
    "                \n",
    "               \n",
    "\n",
    "            if print_every > 0 and (it % print_every) == 0:\n",
    "                print('[Epoch %02d] loss: %.4f it %03d, time%.3f' % (epoch,loss, it, time.time()-t0b))\n",
    "            \n",
    "            it+=1"
   ]
  },
  {
   "cell_type": "code",
   "execution_count": 69,
   "id": "14e021b6",
   "metadata": {},
   "outputs": [],
   "source": [
    "def get_pred(pytorch_model,x):\n",
    "    #x = torch.Tensor(x).to(device)\n",
    "    output = pytorch_model(x)\n",
    "    output = torch.round(output)\n",
    "    output = output.detach().cpu()\n",
    "    return output    \n",
    "\n",
    "def get_accuracy(pred,label):\n",
    "    return torch.sum(pred == label).item()/len(label)"
   ]
  },
  {
   "cell_type": "code",
   "execution_count": 70,
   "id": "5a9cff3e",
   "metadata": {},
   "outputs": [],
   "source": [
    "train_dataset = JSdataset('/data/js_detection/dataset',train=True,transform =transforms.Compose([\n",
    "    transforms.ToTensor(),\n",
    "    transforms.Resize((224,224)),\n",
    "    transforms.Normalize((0.5244, 0.5401, 0.5397),(0.2569, 0.2638, 0.2730))\n",
    "]))\n",
    "\n",
    "test_dataset = JSdataset('/data/js_detection/dataset',train=False,transform =transforms.Compose([\n",
    "    transforms.ToTensor(),\n",
    "    transforms.Resize((224,224)),\n",
    "    transforms.Normalize((0.5244, 0.5401, 0.5397),(0.2569, 0.2638, 0.2730))\n",
    "]))\n",
    "\n",
    "train_loader = DataLoader(train_dataset,batch_size=batch_size,shuffle=True)\n",
    "test_loader = DataLoader(test_dataset,batch_size=batch_size,shuffle=True)"
   ]
  },
  {
   "cell_type": "code",
   "execution_count": 71,
   "id": "f764e38c",
   "metadata": {},
   "outputs": [],
   "source": [
    "model = FaceDetector()\n",
    "model.to(device)\n",
    "\n",
    "optimizer = optim.Adagrad(model.parameters(), lr=learning_rate)\n",
    "criterion = torch.nn.BCELoss()"
   ]
  },
  {
   "cell_type": "code",
   "execution_count": 72,
   "id": "e80db1cf",
   "metadata": {},
   "outputs": [
    {
     "name": "stdout",
     "output_type": "stream",
     "text": [
      "0.52\n",
      "[Epoch 00] loss: 0.6941 it 000, time3.097\n",
      "0.6\n",
      "0.52\n",
      "0.85\n",
      "0.725\n",
      "0.89\n",
      "0.875\n",
      "0.88\n",
      "0.805\n",
      "0.965\n",
      "0.95\n",
      "[Epoch 01] loss: 0.1558 it 010, time36.659\n",
      "0.98\n",
      "0.96\n",
      "1.0\n",
      "1.0\n",
      "1.0\n",
      "1.0\n",
      "0.97\n",
      "0.895\n",
      "0.99\n",
      "1.0\n",
      "[Epoch 02] loss: 0.0573 it 020, time69.800\n",
      "1.0\n",
      "1.0\n",
      "1.0\n",
      "1.0\n",
      "1.0\n",
      "1.0\n",
      "1.0\n",
      "1.0\n",
      "1.0\n",
      "1.0\n",
      "[Epoch 03] loss: 0.0225 it 030, time103.562\n",
      "1.0\n",
      "1.0\n",
      "1.0\n",
      "1.0\n",
      "1.0\n",
      "1.0\n",
      "1.0\n",
      "1.0\n",
      "1.0\n",
      "1.0\n",
      "[Epoch 04] loss: 0.0095 it 040, time136.375\n",
      "1.0\n",
      "1.0\n",
      "1.0\n",
      "1.0\n"
     ]
    }
   ],
   "source": [
    "train(model=model, optimizer=optimizer, criterion=criterion, train_loader=train_loader,test_loader=test_loader,total_epoch=total_epoch)"
   ]
  },
  {
   "cell_type": "code",
   "execution_count": 75,
   "id": "75b49271",
   "metadata": {},
   "outputs": [],
   "source": [
    "torch.save(model.state_dict(),'/data/js_detection/out/parameters.pth')"
   ]
  },
  {
   "cell_type": "code",
   "execution_count": null,
   "id": "632336a9",
   "metadata": {},
   "outputs": [],
   "source": []
  }
 ],
 "metadata": {
  "kernelspec": {
   "display_name": "Python 3",
   "language": "python",
   "name": "python3"
  },
  "language_info": {
   "codemirror_mode": {
    "name": "ipython",
    "version": 3
   },
   "file_extension": ".py",
   "mimetype": "text/x-python",
   "name": "python",
   "nbconvert_exporter": "python",
   "pygments_lexer": "ipython3",
   "version": "3.8.8"
  }
 },
 "nbformat": 4,
 "nbformat_minor": 5
}
