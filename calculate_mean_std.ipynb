{
 "cells": [
  {
   "cell_type": "code",
   "execution_count": 58,
   "id": "ca66c700",
   "metadata": {},
   "outputs": [],
   "source": [
    "from dataset import JSdataset"
   ]
  },
  {
   "cell_type": "code",
   "execution_count": 59,
   "id": "cec1d952",
   "metadata": {},
   "outputs": [],
   "source": [
    "from torch.utils.data import DataLoader\n",
    "import torchvision.transforms as transforms\n",
    "import torch"
   ]
  },
  {
   "cell_type": "code",
   "execution_count": 60,
   "id": "a003e212",
   "metadata": {},
   "outputs": [],
   "source": [
    "js_dataset = JSdataset('/data/js_detection/dataset',transform=transforms.ToTensor())\n",
    "loader = DataLoader(js_dataset,batch_size=10,shuffle=False)"
   ]
  },
  {
   "cell_type": "code",
   "execution_count": 64,
   "id": "e2d776f5",
   "metadata": {},
   "outputs": [],
   "source": [
    "H=224\n",
    "W=224\n",
    "\n",
    "mean = 0.0\n",
    "for images, _ in loader:\n",
    "    batch_samples = images.size(0) \n",
    "    images = images.view(batch_samples, images.size(1), -1)\n",
    "    mean += images.mean(2).sum(0)\n",
    "mean = mean / len(loader.dataset)\n",
    "\n",
    "var = 0.0\n",
    "for images, _ in loader:\n",
    "    batch_samples = images.size(0)\n",
    "    images = images.view(batch_samples, images.size(1), -1)\n",
    "    var += ((images - mean.unsqueeze(1))**2).sum([0,2])\n",
    "std = torch.sqrt(var / (len(loader.dataset)*224*224))\n"
   ]
  },
  {
   "cell_type": "code",
   "execution_count": 65,
   "id": "a174741d",
   "metadata": {},
   "outputs": [
    {
     "name": "stdout",
     "output_type": "stream",
     "text": [
      "tensor([0.5244, 0.5401, 0.5397])\n",
      "tensor([0.2569, 0.2638, 0.2730])\n"
     ]
    }
   ],
   "source": [
    "print(mean)\n",
    "print(std)"
   ]
  },
  {
   "cell_type": "code",
   "execution_count": null,
   "id": "7adf06e7",
   "metadata": {},
   "outputs": [],
   "source": []
  }
 ],
 "metadata": {
  "kernelspec": {
   "display_name": "Python 3",
   "language": "python",
   "name": "python3"
  },
  "language_info": {
   "codemirror_mode": {
    "name": "ipython",
    "version": 3
   },
   "file_extension": ".py",
   "mimetype": "text/x-python",
   "name": "python",
   "nbconvert_exporter": "python",
   "pygments_lexer": "ipython3",
   "version": "3.8.8"
  }
 },
 "nbformat": 4,
 "nbformat_minor": 5
}
