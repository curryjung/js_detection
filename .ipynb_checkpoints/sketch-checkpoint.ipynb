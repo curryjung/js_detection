{
 "cells": [
  {
   "cell_type": "code",
   "execution_count": 2,
   "id": "7e622616",
   "metadata": {},
   "outputs": [],
   "source": [
    "import torch\n",
    "import torch.nn as nn\n",
    "import torch.nn.functional as F\n",
    "\n",
    "from torch.utils.data import DataLoader\n",
    "import torchvision.transforms as transforms\n",
    "\n",
    "from dataset import JSdataset"
   ]
  },
  {
   "cell_type": "code",
   "execution_count": 39,
   "id": "b9420c81",
   "metadata": {},
   "outputs": [],
   "source": [
    "js_dataset = JSdataset('/data/js_detection/dataset',transform=transforms.Compose([\n",
    "                                                                    transforms.ToTensor(),\n",
    "                                                                    transforms.Resize((224,224))\n",
    "                                                                    ]))"
   ]
  },
  {
   "cell_type": "code",
   "execution_count": 40,
   "id": "64711184",
   "metadata": {},
   "outputs": [],
   "source": [
    "loader = DataLoader(js_dataset,batch_size=10,shuffle=False)"
   ]
  },
  {
   "cell_type": "code",
   "execution_count": 57,
   "id": "63937b6c",
   "metadata": {},
   "outputs": [],
   "source": [
    "class Face_detector(nn.Module):\n",
    "    def __init__(self):\n",
    "        \n",
    "        super().__init__()\n",
    "\n",
    "        self.model = nn.Sequential(\n",
    "            nn.Conv2d(3,8,kernel_size=3,padding=1),\n",
    "            nn.MaxPool2d(2,2),\n",
    "            nn.ReLU(),\n",
    "            nn.Conv2d(8,16,kernel_size=3,padding=1),\n",
    "            nn.MaxPool2d(2,2),\n",
    "            nn.ReLU(),\n",
    "            nn.Conv2d(16,32,kernel_size=3,padding=1),\n",
    "            nn.MaxPool2d(2,2),\n",
    "            nn.ReLU(),\n",
    "            nn.Conv2d(32,64,kernel_size=3,padding=1),\n",
    "            nn.MaxPool2d(2,2),\n",
    "            nn.ReLU(),\n",
    "            nn.Conv2d(64,128,kernel_size=3,padding=1),\n",
    "            nn.MaxPool2d(2,2),\n",
    "            nn.ReLU(),\n",
    "            nn.Conv2d(128,128,kernel_size=7),\n",
    "            nn.ReLU()\n",
    "        )\n",
    "        \n",
    "        self.fc1 = nn.Linear(128,128)\n",
    "        self.fc2 = nn.Linear(128,2)\n",
    "        \n",
    "        self.relu = nn.ReLU()\n",
    "        \n",
    "        \n",
    "\n",
    "    def forward(self,x):\n",
    "        x=self.model(x)\n",
    "        x = x.view(x.shape[0],-1)\n",
    "        \n",
    "        x = self.fc1(x)\n",
    "        x = self.relu(x)\n",
    "        x = self.fc2(x)\n",
    "        \n",
    "        return x\n",
    "    \n",
    "    def __repr__(self) -> str:\n",
    "        return \"FaceDetector()\"\n",
    "    "
   ]
  },
  {
   "cell_type": "code",
   "execution_count": 58,
   "id": "2c234c6b",
   "metadata": {},
   "outputs": [],
   "source": [
    "images,_=next(iter(loader))"
   ]
  },
  {
   "cell_type": "code",
   "execution_count": 59,
   "id": "e57885d0",
   "metadata": {},
   "outputs": [
    {
     "data": {
      "text/plain": [
       "torch.Size([10, 3, 224, 224])"
      ]
     },
     "execution_count": 59,
     "metadata": {},
     "output_type": "execute_result"
    }
   ],
   "source": [
    "images.shape"
   ]
  },
  {
   "cell_type": "code",
   "execution_count": 60,
   "id": "4e076e43",
   "metadata": {},
   "outputs": [],
   "source": [
    "model = Face_detector()"
   ]
  },
  {
   "cell_type": "code",
   "execution_count": 61,
   "id": "963a65e6",
   "metadata": {},
   "outputs": [],
   "source": [
    "output = model(images)"
   ]
  },
  {
   "cell_type": "code",
   "execution_count": 62,
   "id": "812ded43",
   "metadata": {},
   "outputs": [
    {
     "data": {
      "text/plain": [
       "torch.Size([10, 128, 1, 1])"
      ]
     },
     "execution_count": 62,
     "metadata": {},
     "output_type": "execute_result"
    }
   ],
   "source": [
    "output.shape"
   ]
  },
  {
   "cell_type": "code",
   "execution_count": 34,
   "id": "780ca008",
   "metadata": {},
   "outputs": [
    {
     "data": {
      "text/plain": [
       "7488"
      ]
     },
     "execution_count": 34,
     "metadata": {},
     "output_type": "execute_result"
    }
   ],
   "source": [
    "32*13*18"
   ]
  },
  {
   "cell_type": "code",
   "execution_count": 52,
   "id": "05391fcd",
   "metadata": {},
   "outputs": [
    {
     "data": {
      "text/plain": [
       "6272"
      ]
     },
     "execution_count": 52,
     "metadata": {},
     "output_type": "execute_result"
    }
   ],
   "source": [
    "128*49"
   ]
  },
  {
   "cell_type": "code",
   "execution_count": 53,
   "id": "7201e147",
   "metadata": {},
   "outputs": [
    {
     "data": {
      "text/plain": [
       "7.0"
      ]
     },
     "execution_count": 53,
     "metadata": {},
     "output_type": "execute_result"
    }
   ],
   "source": [
    "224/32"
   ]
  },
  {
   "cell_type": "code",
   "execution_count": 55,
   "id": "2cd4dcc2",
   "metadata": {},
   "outputs": [
    {
     "data": {
      "text/plain": [
       "83.59183673469387"
      ]
     },
     "execution_count": 55,
     "metadata": {},
     "output_type": "execute_result"
    }
   ],
   "source": []
  },
  {
   "cell_type": "code",
   "execution_count": 56,
   "id": "6b4f0f81",
   "metadata": {},
   "outputs": [
    {
     "data": {
      "text/plain": [
       "8.0"
      ]
     },
     "execution_count": 56,
     "metadata": {},
     "output_type": "execute_result"
    }
   ],
   "source": [
    "4096/512"
   ]
  },
  {
   "cell_type": "code",
   "execution_count": null,
   "id": "416b6894",
   "metadata": {},
   "outputs": [],
   "source": []
  }
 ],
 "metadata": {
  "kernelspec": {
   "display_name": "Python 3",
   "language": "python",
   "name": "python3"
  },
  "language_info": {
   "codemirror_mode": {
    "name": "ipython",
    "version": 3
   },
   "file_extension": ".py",
   "mimetype": "text/x-python",
   "name": "python",
   "nbconvert_exporter": "python",
   "pygments_lexer": "ipython3",
   "version": "3.8.8"
  }
 },
 "nbformat": 4,
 "nbformat_minor": 5
}
